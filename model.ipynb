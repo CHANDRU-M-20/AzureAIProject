{
 "cells": [
  {
   "cell_type": "code",
   "execution_count": null,
   "metadata": {},
   "outputs": [],
   "source": [
    "# import os\n",
    "# import json\n",
    "# import requests\n",
    "# import http.client,urllib.parse\n",
    "# from tenacity import retry, wait_fixed, stop_after_attempt\n",
    "# from dotenv import load_dotenv\n",
    "\n",
    "# # from Ipython import Image,display\n",
    "\n",
    "# from azure.core.credentials import AzureKeyCredential\n",
    "# from azure.identity import DefaultAzureCredential\n",
    "\n",
    "# load_dotenv()\n",
    "\n",
    "# from sklearn.metrics.pairwise import cosine_similarity\n",
    "\n",
    "# aiVisionApiKey = os.getenv(\"AI_VISION_API_KEY\")\n",
    "# aiVisionRegion=os.getenv(\"AI_VISION_REGION\")\n",
    "# aiVisionEndpoint=os.getenv(\"AI_VISION_ENDPOINT\")\n",
    "# credentials = DefaultAzureCredential()\n",
    "\n",
    "# FilePath = 'Images'"
   ]
  },
  {
   "cell_type": "markdown",
   "metadata": {},
   "source": [
    "Input requirements\n",
    "Image input\n",
    "\n",
    "The file size of the image must be less than 20 megabytes (MB)\n",
    "The dimensions of the image must be greater than 10 x 10 pixels and less than 16,000 x 16,000 pixels\n",
    "Text input\n",
    "\n",
    "The text string must be between (inclusive) one word and 70 words."
   ]
  },
  {
   "cell_type": "markdown",
   "metadata": {},
   "source": []
  }
 ],
 "metadata": {
  "language_info": {
   "name": "python"
  }
 },
 "nbformat": 4,
 "nbformat_minor": 2
}
